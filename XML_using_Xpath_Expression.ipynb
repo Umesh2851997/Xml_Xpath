{
  "cells": [
    {
      "cell_type": "markdown",
      "metadata": {
        "id": "view-in-github",
        "colab_type": "text"
      },
      "source": [
        "<a href=\"https://colab.research.google.com/github/Umesh2851997/Xml_Xpath/blob/main/XML_using_Xpath_Expression.ipynb\" target=\"_parent\"><img src=\"https://colab.research.google.com/assets/colab-badge.svg\" alt=\"Open In Colab\"/></a>"
      ]
    },
    {
      "cell_type": "code",
      "source": [
        "import xml.etree.ElementTree as ET #import xml library"
      ],
      "metadata": {
        "id": "rfZtTk0C8XUy"
      },
      "execution_count": 1,
      "outputs": []
    },
    {
      "cell_type": "code",
      "source": [
        "tree = ET.parse('/content/author.xml')"
      ],
      "metadata": {
        "id": "8h8WT89q_M2o"
      },
      "execution_count": 2,
      "outputs": []
    },
    {
      "cell_type": "code",
      "source": [
        "root = tree.getroot()\n",
        "print(root.tag)"
      ],
      "metadata": {
        "colab": {
          "base_uri": "https://localhost:8080/"
        },
        "id": "hZcrWqio_NiU",
        "outputId": "087b9716-358b-4245-a205-898e39911ff4"
      },
      "execution_count": 3,
      "outputs": [
        {
          "output_type": "stream",
          "name": "stdout",
          "text": [
            "books\n"
          ]
        }
      ]
    },
    {
      "cell_type": "code",
      "source": [
        "# Find all book elements\n",
        "books = root.findall('book')"
      ],
      "metadata": {
        "id": "dKWTSMay_Rv0"
      },
      "execution_count": 4,
      "outputs": []
    },
    {
      "cell_type": "code",
      "source": [
        "# access the elements and attributes\n",
        "for book in root.iter('book'):\n",
        "  title = book.find('title').text\n",
        "  Author = book.find('author').text\n",
        "  year = int(book.find('year').text)\n",
        "  publisher = book.find('publisher').text\n",
        "\n",
        "  print(\"title\", title)\n",
        "  print(\"author\", Author)\n",
        "  print(\"year\", year)\n",
        "  print(\"publisher\", publisher, '\\n')  # Corrected syntax error\n"
      ],
      "metadata": {
        "colab": {
          "base_uri": "https://localhost:8080/"
        },
        "id": "H3prmh_w_TW8",
        "outputId": "4d9727b4-ba6a-49f6-fb0e-fe89f760d5da"
      },
      "execution_count": 5,
      "outputs": [
        {
          "output_type": "stream",
          "name": "stdout",
          "text": [
            "title The Catcher in the Rye\n",
            "author J.D. Salinger\n",
            "year 1951\n",
            "publisher Little, Brown and Company \n",
            "\n",
            "title To Kill a Mockingbird\n",
            "author Harper Lee\n",
            "year 1960\n",
            "publisher J. B. Lippincott & Co. \n",
            "\n",
            "title 1984\n",
            "author George Orwell\n",
            "year 1949\n",
            "publisher Secker & Warburg \n",
            "\n"
          ]
        }
      ]
    },
    {
      "cell_type": "markdown",
      "source": [
        "#access the first element"
      ],
      "metadata": {
        "id": "qVn8bYfZ_tpC"
      }
    },
    {
      "cell_type": "code",
      "source": [
        "# get the first book element\n",
        "book = root.find('book')\n",
        "# get the title and author elements of the first book,\n",
        "#and extract their text content\n",
        "title = book.find('title').text\n",
        "author = book.find('author').text\n",
        "\n",
        "# print the extracted information\n",
        "print('Title:', title)\n",
        "print('Author:', author)"
      ],
      "metadata": {
        "colab": {
          "base_uri": "https://localhost:8080/"
        },
        "id": "u4KcO8-P_qno",
        "outputId": "d6588b23-49f8-4c54-839a-d34300d2bd50"
      },
      "execution_count": 6,
      "outputs": [
        {
          "output_type": "stream",
          "name": "stdout",
          "text": [
            "Title: The Catcher in the Rye\n",
            "Author: J.D. Salinger\n"
          ]
        }
      ]
    },
    {
      "cell_type": "markdown",
      "source": [
        "access other elements using xpath Expression"
      ],
      "metadata": {
        "id": "pah8EXzd_6QU"
      }
    },
    {
      "cell_type": "code",
      "source": [
        "# find the book element with id attribute equals to 2\n",
        "book2 = root.find(\"./book[@id='1']\")\n",
        "\n",
        "# check if book2 is None before accessing its attributes\n",
        "if book2 is not None:\n",
        "    title = book2.find('title').text\n",
        "    author = book2.find('author').text\n",
        "    print('Title:', title)\n",
        "    print('Author:', author)\n",
        "else:\n",
        "    print('Book not found.')\n",
        "\n"
      ],
      "metadata": {
        "colab": {
          "base_uri": "https://localhost:8080/"
        },
        "id": "B16hv66t_4i9",
        "outputId": "e6e71d96-ecfd-478e-e269-c0747ab7503f"
      },
      "execution_count": 7,
      "outputs": [
        {
          "output_type": "stream",
          "name": "stdout",
          "text": [
            "Title: The Catcher in the Rye\n",
            "Author: J.D. Salinger\n"
          ]
        }
      ]
    },
    {
      "cell_type": "markdown",
      "source": [
        "Add new elements in xml file\n"
      ],
      "metadata": {
        "id": "RiukAJe3A3lu"
      }
    },
    {
      "cell_type": "code",
      "source": [
        "# Create a new book element\n",
        "new_book = ET.Element('book', {'id': '4'})\n",
        "title = ET.SubElement(new_book, 'title')\n",
        "title.text = 'The Great Gatsby'\n",
        "author = ET.SubElement(new_book, 'author')\n",
        "author.text = 'F. Scott Fitzgerald'\n",
        "year = ET.SubElement(new_book, 'year')\n",
        "year.text = '1925'\n",
        "publisher = ET.SubElement(new_book, 'publisher')\n",
        "publisher.text = \"Charles Scribner's Sons\"\n",
        "\n",
        "# Add the new book element to the root element\n",
        "root.append(new_book)\n",
        "\n",
        "# Write the updated XML file\n",
        "tree.write('books.xml')\n"
      ],
      "metadata": {
        "id": "tXKoXit3A0Du"
      },
      "execution_count": 8,
      "outputs": []
    },
    {
      "cell_type": "markdown",
      "source": [
        "Change the elements"
      ],
      "metadata": {
        "id": "l5Duk0lyJZhQ"
      }
    },
    {
      "cell_type": "code",
      "source": [
        "import xml.etree.ElementTree as ET\n",
        "\n",
        "# Parse the XML file\n",
        "tree = ET.parse('books.xml')\n",
        "\n",
        "# Get the root element\n",
        "root = tree.getroot()\n",
        "\n",
        "# Find the book element at id=2\n",
        "book2 = root.find(\"./book[@id='2']\")\n",
        "\n",
        "# Update the title element\n",
        "book2.find('title').text = 'Pride and Prejudice'\n",
        "\n",
        "# Write the updated XML file\n",
        "tree.write('books.xml')\n"
      ],
      "metadata": {
        "id": "ewE271mAJWSt"
      },
      "execution_count": 9,
      "outputs": []
    },
    {
      "cell_type": "code",
      "source": [
        "# access the elements and attributes\n",
        "for book in root.iter('book'):\n",
        "    title = book.find('title').text\n",
        "    author = book.find('author').text\n",
        "    year = int(book.find('year').text)\n",
        "    publisher = book.find('publisher').text\n",
        "\n",
        "    # do something with the data\n",
        "    print(f'Title: {title}')\n",
        "    print(f'Author: {author}')\n",
        "    print(f'Year: {year}')\n",
        "    print(f'Publisher: {publisher}\\n')"
      ],
      "metadata": {
        "colab": {
          "base_uri": "https://localhost:8080/"
        },
        "id": "lf8lPPSuK0F-",
        "outputId": "92a4d402-3c04-4a28-d7a8-05f6ae2ad906"
      },
      "execution_count": 10,
      "outputs": [
        {
          "output_type": "stream",
          "name": "stdout",
          "text": [
            "Title: The Catcher in the Rye\n",
            "Author: J.D. Salinger\n",
            "Year: 1951\n",
            "Publisher: Little, Brown and Company\n",
            "\n",
            "Title: Pride and Prejudice\n",
            "Author: Harper Lee\n",
            "Year: 1960\n",
            "Publisher: J. B. Lippincott & Co.\n",
            "\n",
            "Title: 1984\n",
            "Author: George Orwell\n",
            "Year: 1949\n",
            "Publisher: Secker & Warburg\n",
            "\n",
            "Title: The Great Gatsby\n",
            "Author: F. Scott Fitzgerald\n",
            "Year: 1925\n",
            "Publisher: Charles Scribner's Sons\n",
            "\n"
          ]
        }
      ]
    },
    {
      "cell_type": "markdown",
      "source": [
        "delete the elements"
      ],
      "metadata": {
        "id": "8lw1hS6UL7Uh"
      }
    },
    {
      "cell_type": "code",
      "source": [
        "# Find the book element with an id of 2\n",
        "book_to_remove = root.find(\"./book[@id='2']\")\n",
        "\n",
        "# Remove the book element from the root element\n",
        "root.remove(book_to_remove)\n",
        "\n",
        "# Save the updated XML file\n",
        "tree.write('books.xml')"
      ],
      "metadata": {
        "id": "Sb0fUJVNL9kN"
      },
      "execution_count": 11,
      "outputs": []
    },
    {
      "cell_type": "code",
      "source": [
        "# access the elements and attributes\n",
        "for book in root.iter('book'):\n",
        "    title = book.find('title').text\n",
        "    author = book.find('author').text\n",
        "    year = int(book.find('year').text)\n",
        "    publisher = book.find('publisher').text\n",
        "\n",
        "    # do something with the data\n",
        "    print(f'Title: {title}')\n",
        "    print(f'Author: {author}')\n",
        "    print(f'Year: {year}')\n",
        "    print(f'Publisher: {publisher}\\n')"
      ],
      "metadata": {
        "colab": {
          "base_uri": "https://localhost:8080/"
        },
        "id": "cQSYzmNPL_07",
        "outputId": "58641feb-aaf1-415d-ad71-194d50e27fbc"
      },
      "execution_count": 12,
      "outputs": [
        {
          "output_type": "stream",
          "name": "stdout",
          "text": [
            "Title: The Catcher in the Rye\n",
            "Author: J.D. Salinger\n",
            "Year: 1951\n",
            "Publisher: Little, Brown and Company\n",
            "\n",
            "Title: 1984\n",
            "Author: George Orwell\n",
            "Year: 1949\n",
            "Publisher: Secker & Warburg\n",
            "\n",
            "Title: The Great Gatsby\n",
            "Author: F. Scott Fitzgerald\n",
            "Year: 1925\n",
            "Publisher: Charles Scribner's Sons\n",
            "\n"
          ]
        }
      ]
    },
    {
      "cell_type": "code",
      "source": [
        "import xml.etree.ElementTree as ET\n",
        "\n",
        "# Load and parse the XML file\n",
        "tree = ET.parse('books.xml')\n",
        "root = tree.getroot()\n",
        "\n",
        "# Select all book elements\n",
        "books = root.findall('./book')\n",
        "\n",
        "# Select the book with id=2\n",
        "book_2 = root.find(\".//book[@id='2']\")\n",
        "\n",
        "# Select all title elements\n",
        "titles = root.findall('.//title')\n",
        "\n",
        "# Print the titles of all books\n",
        "for title in titles:\n",
        "    print(title.text)\n"
      ],
      "metadata": {
        "colab": {
          "base_uri": "https://localhost:8080/"
        },
        "id": "a7C2QxkTSe7W",
        "outputId": "7b1df4ed-74f4-4d3d-d00d-affd76b83037"
      },
      "execution_count": 13,
      "outputs": [
        {
          "output_type": "stream",
          "name": "stdout",
          "text": [
            "The Catcher in the Rye\n",
            "1984\n",
            "The Great Gatsby\n"
          ]
        }
      ]
    },
    {
      "cell_type": "code",
      "source": [
        "import xml.etree.ElementTree as ET\n",
        "\n",
        "# Parse the XML file\n",
        "tree = ET.parse('/content/author.xml')\n",
        "root = tree.getroot()\n",
        "\n",
        "# 1. Get all book titles\n",
        "titles = [book.find('title').text for book in root.findall('book')]\n",
        "print(\"Book Titles:\", titles)\n",
        "\n",
        "# 2. Get the author of the book with id=\"2\"\n",
        "author_book_2 = root.find('.//book[@id=\"2\"]/author').text\n",
        "print(\"Author of Book with ID 2:\", author_book_2)\n",
        "\n",
        "# 3. Get all years of publication\n",
        "years = [book.find('year').text for book in root.findall('book')]\n",
        "print(\"Years of Publication:\", years)\n",
        "\n",
        "# 4. Get the title of the book published in 1949\n",
        "title_1949 = root.find('.//book[year=\"1949\"]/title').text\n",
        "print(\"Title of Book Published in 1949:\", title_1949)\n",
        "\n",
        "# 5. Get the publishers\n",
        "publishers = [book.find('publisher').text for book in root.findall('book')]\n",
        "print(\"Publishers:\", publishers)\n"
      ],
      "metadata": {
        "colab": {
          "base_uri": "https://localhost:8080/"
        },
        "id": "NTVPA4ZENh-L",
        "outputId": "1fbc3311-26ec-417c-a2f4-cf8bf6eff5ea"
      },
      "execution_count": 16,
      "outputs": [
        {
          "output_type": "stream",
          "name": "stdout",
          "text": [
            "Book Titles: ['The Catcher in the Rye', 'To Kill a Mockingbird', '1984']\n",
            "Author of Book with ID 2: Harper Lee\n",
            "Years of Publication: ['1951', '1960', '1949']\n",
            "Title of Book Published in 1949: 1984\n",
            "Publishers: ['Little, Brown and Company', 'J. B. Lippincott & Co.', 'Secker & Warburg']\n"
          ]
        }
      ]
    }
  ],
  "metadata": {
    "colab": {
      "provenance": [],
      "include_colab_link": true
    },
    "kernelspec": {
      "display_name": "Python 3",
      "name": "python3"
    }
  },
  "nbformat": 4,
  "nbformat_minor": 0
}